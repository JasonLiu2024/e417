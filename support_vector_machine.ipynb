{
 "cells": [
  {
   "cell_type": "code",
   "execution_count": 6,
   "metadata": {},
   "outputs": [],
   "source": [
    "import numpy as np\n",
    "import pandas as pd\n",
    "import matplotlib.pyplot as plt\n",
    "from sklearn.model_selection import train_test_split\n",
    "import seaborn as sbn\n",
    "from sklearn.decomposition import PCA\n",
    "from sklearn.preprocessing import StandardScaler\n",
    "from sklearn.pipeline import make_pipeline, Pipeline\n",
    "import baseline\n",
    "from sklearn import svm\n",
    "from sklearn.model_selection import cross_val_score, cross_validate, StratifiedKFold\n",
    "from numpy.typing import NDArray\n",
    "import sklearn as skl\n",
    "from sklearn.metrics import roc_auc_score, average_precision_score, log_loss\n",
    "from sklearn.neural_network import MLPClassifier\n",
    "from sklearn.model_selection import GridSearchCV\n",
    "from sklearn.ensemble import RandomForestClassifier\n",
    "from sklearn.utils._testing import ignore_warnings\n",
    "from sklearn.exceptions import ConvergenceWarning\n",
    "import importlib as imp"
   ]
  },
  {
   "cell_type": "code",
   "execution_count": 7,
   "metadata": {},
   "outputs": [
    {
     "name": "stdout",
     "output_type": "stream",
     "text": [
      "train examples: (1279, 11)\n",
      "test examples:  (320, 11)\n",
      "train labels:   (1279,)\n",
      "test labels:    (320,)\n"
     ]
    }
   ],
   "source": [
    "raw = pd.read_csv('./wine+quality/winequality-red.csv', sep=';')\n",
    "RANDOM_STATE = 0 # random_state\n",
    "column_names = list(raw.columns)\n",
    "feature_names = column_names[:-1]\n",
    "target_name = column_names[-1]\n",
    "train_examples, test_examples = train_test_split(np.asarray(raw[feature_names]), test_size=0.2, random_state=RANDOM_STATE)\n",
    "train_labels, test_labels = train_test_split(np.asarray(raw[target_name]), test_size=0.2, random_state=RANDOM_STATE)\n",
    "print(f\"train examples: {train_examples.shape}\")\n",
    "print(f\"test examples:  {test_examples.shape}\")\n",
    "print(f\"train labels:   {train_labels.shape}\")\n",
    "print(f\"test labels:    {test_labels.shape}\")"
   ]
  },
  {
   "cell_type": "code",
   "execution_count": 8,
   "metadata": {},
   "outputs": [],
   "source": [
    "# \"\"\"prepare for Stratified K-Fold cross validation\"\"\"\n",
    "NUMBER_OF_FOLDS = 5\n",
    "# imp.reload(baseline)\n",
    "# splitter = StratifiedKFold(n_splits=NUMBER_OF_FOLDS)\n",
    "# SKF_train_indices : list[NDArray] = []\n",
    "# SKF_valid_indices : list[NDArray] = []\n",
    "# for train, test in splitter.split(X=train_examples, y=train_labels):\n",
    "#     SKF_train_indices.append(train)\n",
    "#     SKF_valid_indices.append(test)"
   ]
  },
  {
   "cell_type": "code",
   "execution_count": 9,
   "metadata": {},
   "outputs": [],
   "source": [
    "@ignore_warnings(category=ConvergenceWarning)\n",
    "def grid_search_best_params(classifier, parameter_space, train_examples, train_labels):\n",
    "    pipe = Pipeline(steps=[\n",
    "        ('scaler', StandardScaler()),\n",
    "        ('model', classifier),\n",
    "        ])\n",
    "    search = GridSearchCV(estimator=pipe, param_grid=parameter_space, cv=StratifiedKFold(NUMBER_OF_FOLDS).split(X=train_examples, y=train_labels),\n",
    "        scoring='accuracy')\n",
    "    search.fit(X=train_examples, y=train_labels)\n",
    "    return search.best_params_, search.best_estimator_"
   ]
  },
  {
   "cell_type": "code",
   "execution_count": 10,
   "metadata": {},
   "outputs": [],
   "source": [
    "svc_parameter_space = {\n",
    "        'model__C': [0.01, 0.1, 1, 10, 100],\n",
    "        'model__kernel': ['linear', 'poly', 'rbf', 'sigmoid']\n",
    "        }\n",
    "svc_best_params, svc_best_estimator = grid_search_best_params(\n",
    "    classifier=svm.SVC(probability=True, decision_function_shape='ovo', random_state=RANDOM_STATE),\n",
    "    parameter_space=svc_parameter_space,\n",
    "    train_examples=train_examples,\n",
    "    train_labels=train_labels)"
   ]
  },
  {
   "cell_type": "code",
   "execution_count": 11,
   "metadata": {},
   "outputs": [],
   "source": [
    "mlp_parameter_space = {\n",
    "        'model__alpha': [1e-4, 1e-3, 1e-2],\n",
    "        'model__activation': ['logistic', 'tanh', 'relu'],\n",
    "        'model__solver': ['sgd', 'adam']\n",
    "        }\n",
    "mlp_best_params, mlp_best_estimator = grid_search_best_params(\n",
    "    classifier=MLPClassifier(max_iter=1000, random_state=RANDOM_STATE),\n",
    "    parameter_space=mlp_parameter_space,\n",
    "    train_examples=train_examples,\n",
    "    train_labels=train_labels)"
   ]
  },
  {
   "cell_type": "code",
   "execution_count": 12,
   "metadata": {},
   "outputs": [],
   "source": [
    "rf_parameter_space = {\n",
    "        'model__n_estimators': [50, 100, 150],\n",
    "        'model__criterion': ['gini', 'entropy', 'log_loss'],\n",
    "        }\n",
    "rf_best_params, rf_best_estimator = grid_search_best_params(\n",
    "    classifier=RandomForestClassifier(random_state=RANDOM_STATE),\n",
    "    parameter_space=rf_parameter_space,\n",
    "    train_examples=train_examples,\n",
    "    train_labels=train_labels)"
   ]
  },
  {
   "cell_type": "code",
   "execution_count": 13,
   "metadata": {},
   "outputs": [],
   "source": [
    "# def get_results_storage(number_of_folds):\n",
    "#     return {\n",
    "#         'ROC AUC': {\n",
    "#             'function': lambda prediction, score, label:\n",
    "#                 roc_auc_score(y_true=label, y_score=score, multi_class='ovr'),\n",
    "#             'each round': np.zeros(shape=number_of_folds),\n",
    "#             'cv value': []\n",
    "#         },\n",
    "#         'Average Precision' : {\n",
    "#             'function': lambda prediction, score, label:\n",
    "#                 average_precision_score(y_true=label, y_score=score),\n",
    "#             'each round': np.zeros(shape=number_of_folds),\n",
    "#             'cv value': []\n",
    "#         },\n",
    "#         'Cross Entropy' : {\n",
    "#             'function': lambda prediction, score, label:\n",
    "#                 log_loss(y_true=label, y_pred=score),\n",
    "#             'each round': np.zeros(shape=number_of_folds),\n",
    "#             'cv value': []\n",
    "#         },\n",
    "#         'Accuracy' : {\n",
    "#             'each round': np.zeros(shape=number_of_folds),\n",
    "#             'cv value': []\n",
    "#         },\n",
    "#     }\n",
    "# def do_cross_validation(model):\n",
    "#     results = get_results_storage(NUMBER_OF_FOLDS)\n",
    "#     # clf = svm.SVC(kernel='rbf', C=0.01, probability=True, decision_function_shape='ovo', random_state=RANDOM_STATE)\n",
    "#     # clf = MLPClassifier(hidden_layer_sizes=(100, 20), activation='relu', random_state=RANDOM_STATE)\n",
    "#     for i in range(NUMBER_OF_FOLDS):\n",
    "#         classifier = skl.base.clone(model)\n",
    "#         pipe = make_pipeline(StandardScaler(), classifier)\n",
    "#         pipe.fit(train_examples[SKF_train_indices[i]], train_labels[SKF_train_indices[i]])\n",
    "#         accuracy = pipe.score(train_examples[SKF_valid_indices[i]], train_labels[SKF_valid_indices[i]])\n",
    "#         score = pipe.predict_proba(train_examples[SKF_valid_indices[i]])\n",
    "#         prediction = pipe.predict(train_examples[SKF_valid_indices[i]])\n",
    "#         # print(train_labels[SKF_valid_indices[i]].shape)\n",
    "#         # print(score.shape)\n",
    "#         for metric in results.keys():\n",
    "#             if metric == 'Accuracy':\n",
    "#                 results[metric]['each round'][i] = accuracy\n",
    "#             else:\n",
    "#                 results[metric]['each round'][i] = results[metric]['function'](\n",
    "#                     label=train_labels[SKF_valid_indices[i]], score=score, prediction=prediction)\n",
    "#     for metric in results.keys():\n",
    "#         results[metric]['cv value'] = np.mean(results[metric]['each round'])\n",
    "#     return results\n",
    "# do_cross_validation(\n",
    "#     model=svm.SVC(kernel='linear', probability=True, decision_function_shape='ovo', random_state=RANDOM_STATE),\n",
    "#     )"
   ]
  }
 ],
 "metadata": {
  "kernelspec": {
   "display_name": "base",
   "language": "python",
   "name": "python3"
  },
  "language_info": {
   "codemirror_mode": {
    "name": "ipython",
    "version": 3
   },
   "file_extension": ".py",
   "mimetype": "text/x-python",
   "name": "python",
   "nbconvert_exporter": "python",
   "pygments_lexer": "ipython3",
   "version": "3.9.13"
  }
 },
 "nbformat": 4,
 "nbformat_minor": 2
}
